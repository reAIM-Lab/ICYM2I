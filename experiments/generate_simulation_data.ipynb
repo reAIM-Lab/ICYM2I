{
 "cells": [
  {
   "cell_type": "markdown",
   "metadata": {},
   "source": [
    "This notebook generates the dataset for the simulations."
   ]
  },
  {
   "cell_type": "code",
   "execution_count": 1,
   "metadata": {},
   "outputs": [],
   "source": [
    "from utils import *\n",
    "np.random.seed(0)"
   ]
  },
  {
   "cell_type": "code",
   "execution_count": 2,
   "metadata": {},
   "outputs": [
    {
     "name": "stdout",
     "output_type": "stream",
     "text": [
      "Saving data to ./data/nsamples_10000_flipprob_0.2\n"
     ]
    }
   ],
   "source": [
    "N_SAMPLES = 10000\n",
    "CLASSIFICATION_FLIP_PROB = 0.2\n",
    "DATA_PARENT_PATH = './data'\n",
    "\n",
    "DATA_PATH = os.path.join(DATA_PARENT_PATH, f'nsamples_{N_SAMPLES}_flipprob_{CLASSIFICATION_FLIP_PROB}')\n",
    "create_path_and_all_parents(DATA_PATH)\n",
    "print(f'Saving data to {DATA_PATH}')\n",
    "\n",
    "save_path_dict = {'synthetic_x1_feature_path':os.path.join(DATA_PATH, 'continuous_x1_features.csv'),\n",
    "                  'synthetic_x2_feature_path':os.path.join(DATA_PATH, 'continuous_x2_features.csv'),\n",
    "                  'synthetic_classification_label_path':os.path.join(DATA_PATH, 'classification_labels.csv'),\n",
    "                  'synthetic_miss_probs_path':os.path.join(DATA_PATH, 'miss_probs.csv'),\n",
    "                  'synthetic_miss_label_path':os.path.join(DATA_PATH, 'miss_labels.csv')}"
   ]
  },
  {
   "cell_type": "code",
   "execution_count": null,
   "metadata": {},
   "outputs": [],
   "source": [
    "# Generate data given latent clusters\n",
    "latent_dict, cluster = get_latents(n_samples = N_SAMPLES)\n",
    "x1, x2, label = get_labels_by_ratio(latent_dict, cluster, flip_prob = CLASSIFICATION_FLIP_PROB)"
   ]
  },
  {
   "cell_type": "code",
   "execution_count": null,
   "metadata": {},
   "outputs": [],
   "source": [
    "# Generate missingness probabilities\n",
    "p_m_1_array = [0.5]\n",
    "\n",
    "missingness_prob = pd.concat({l: generate_missingness(x1, x2, label[l], p_m_1_array) for l in label.columns[:-1]}, axis = 1)\n",
    "missingness_label = missingness_prob.apply(lambda x: np.random.binomial(1, x, len(x)))"
   ]
  },
  {
   "cell_type": "code",
   "execution_count": null,
   "metadata": {},
   "outputs": [],
   "source": [
    "# Save the data\n",
    "x1.to_csv(save_path_dict['synthetic_x1_feature_path'], index = False)\n",
    "x2.to_csv(save_path_dict['synthetic_x2_feature_path'], index = False)\n",
    "label.to_csv(save_path_dict['synthetic_classification_label_path'], index = False)\n",
    "missingness_prob.to_csv(save_path_dict['synthetic_miss_probs_path'], index = False)\n",
    "missingness_label.to_csv(save_path_dict['synthetic_miss_label_path'], index = False)"
   ]
  }
 ],
 "metadata": {
  "kernelspec": {
   "display_name": "foundation",
   "language": "python",
   "name": "python3"
  },
  "language_info": {
   "codemirror_mode": {
    "name": "ipython",
    "version": 3
   },
   "file_extension": ".py",
   "mimetype": "text/x-python",
   "name": "python",
   "nbconvert_exporter": "python",
   "pygments_lexer": "ipython3",
   "version": "3.13.2"
  }
 },
 "nbformat": 4,
 "nbformat_minor": 2
}
